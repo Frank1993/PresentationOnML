{
 "cells": [
  {
   "cell_type": "code",
   "execution_count": 1,
   "metadata": {
    "collapsed": true
   },
   "outputs": [],
   "source": [
    "%matplotlib inline"
   ]
  },
  {
   "cell_type": "markdown",
   "metadata": {
    "slideshow": {
     "slide_type": "slide"
    }
   },
   "source": [
    "#                                       Machine learning"
   ]
  },
  {
   "cell_type": "markdown",
   "metadata": {},
   "source": [
    "# 网络公开课"
   ]
  },
  {
   "cell_type": "markdown",
   "metadata": {},
   "source": [
    "- [机器学习基础](https://www.coursera.org/course/ntumlone) --国立台湾大学\n",
    "- [机器学习](https://www.coursera.org/learn/machine-learning) --吴恩达 斯坦福大学\n",
    "- [机器学习专项课程](https://www.coursera.org/specializations/machine-learning) --华盛顿大学"
   ]
  },
  {
   "cell_type": "markdown",
   "metadata": {},
   "source": [
    "# 经典书籍\n",
    "\n",
    "\n",
    "## Pattern Recognition and Machine Learning\n",
    "\n",
    "- [官方网站](http://research.microsoft.com/en-us/um/people/cmbishop/PRML/)\n",
    "- [淘宝推广](https://item.taobao.com/item.htm?spm=a1z09.2.0.0.olgh6P&id=37881238164&_u=5584p9p44a3)\n",
    "- [UCLA课程](http://www.stat.ucla.edu/~sczhu/Courses/UCLA/Stat_231/Stat_231.html)\n",
    "\n",
    "- [机器学习狂热分子读书会](http://blog.sina.com.cn/s/blog_6dbdb8160102vft7.html)\n",
    "- [上交读书会](http://www.pami.sjtu.edu.cn/rg/)\n",
    "- [reddit学习小组](https://www.reddit.com/r/MachineLearning/comments/1q63w1/online_study_group_for_reading_bishops_prml/)\n"
   ]
  },
  {
   "cell_type": "markdown",
   "metadata": {},
   "source": [
    "# 算法\n",
    "\n",
    "## 数据资源\n",
    "#### [UCI Machine Learning Repository](http://archive.ics.uci.edu/ml/datasets.html)\n",
    "- 187个数据集 -- 不断增加\n",
    "- 分类，回归，聚类，其他 etc\n",
    "- 多变量，单变量，时序，文本 etc\n",
    "- 生命科学，物理科学，计算机科学，商业，游戏 etc"
   ]
  },
  {
   "cell_type": "markdown",
   "metadata": {},
   "source": [
    "## 算法实现\n",
    "\n",
    "> # Talk is cheap,show me the code\n",
    "\n"
   ]
  },
  {
   "cell_type": "markdown",
   "metadata": {},
   "source": [
    "## matlab\n",
    "\n",
    "- matlab可以用于算法的验证\n",
    "- 利用矩阵进行优化"
   ]
  },
  {
   "cell_type": "markdown",
   "metadata": {},
   "source": [
    "## Python\n",
    "\n"
   ]
  },
  {
   "cell_type": "markdown",
   "metadata": {},
   "source": [
    "- ### numpy,scipy"
   ]
  },
  {
   "cell_type": "code",
   "execution_count": 23,
   "metadata": {
    "collapsed": false
   },
   "outputs": [
    {
     "name": "stdout",
     "output_type": "stream",
     "text": [
      "X: [[6 5 2 4 9 3 7]]\n",
      "X 的转置:\n",
      "[[6]\n",
      " [5]\n",
      " [2]\n",
      " [4]\n",
      " [9]\n",
      " [3]\n",
      " [7]]\n",
      "sum_of_square: [[220]]\n"
     ]
    }
   ],
   "source": [
    "import numpy as np\n",
    "X=np.array([[6,5,2,4,9,3,7]])\n",
    "print 'X:',X\n",
    "print 'X 的转置:'\n",
    "print X.T\n",
    "sum_of_square=X.dot(X.T)\n",
    "print 'sum_of_square:',sum_of_square"
   ]
  },
  {
   "cell_type": "markdown",
   "metadata": {
    "slideshow": {
     "slide_type": "slide"
    }
   },
   "source": [
    "- ## [scikit_learn](http://scikit-learn.org/stable/index.html) \n",
    "\n",
    "  - python的机器学习库\n",
    "  - 实现了基本上所有的机器学习算法\n",
    "  - 基于numpy和scipy实现，计算高效\n",
    "  - 支持各种数据预处理，如特征抽取，分词等"
   ]
  },
  {
   "cell_type": "markdown",
   "metadata": {},
   "source": [
    "## Demo\n",
    "\n",
    "- 获得训练数据"
   ]
  },
  {
   "cell_type": "code",
   "execution_count": 27,
   "metadata": {
    "collapsed": false,
    "scrolled": true
   },
   "outputs": [
    {
     "name": "stdout",
     "output_type": "stream",
     "text": [
      "/Users/hu/scikit_learn_data\n",
      "/Users/hu/scikit_learn_data/20news-bydate.pkz\n",
      "/Users/hu/scikit_learn_data/20news_home\n"
     ]
    },
    {
     "data": {
      "text/plain": [
       "['alt.atheism', 'comp.graphics', 'sci.med', 'soc.religion.christian']"
      ]
     },
     "execution_count": 27,
     "metadata": {},
     "output_type": "execute_result"
    }
   ],
   "source": [
    "categories = ['alt.atheism', 'soc.religion.christian','comp.graphics', 'sci.med']\n",
    "from sklearn.datasets import fetch_20newsgroups\n",
    "twenty_train = fetch_20newsgroups(subset='train',categories=categories, shuffle=True, random_state=42)\n",
    "print twenty_train.target_names\n",
    "print len(twenty_train.data)"
   ]
  },
  {
   "cell_type": "markdown",
   "metadata": {},
   "source": [
    "- 数据样例"
   ]
  },
  {
   "cell_type": "code",
   "execution_count": 28,
   "metadata": {
    "collapsed": false
   },
   "outputs": [
    {
     "name": "stdout",
     "output_type": "stream",
     "text": [
      "From: sd345@city.ac.uk (Michael Collier)\n",
      "Subject: Converting images to HP LaserJet III?\n",
      "Nntp-Posting-Host: hampton\n"
     ]
    }
   ],
   "source": [
    "print(\"\\n\".join(twenty_train.data[0].split(\"\\n\")[:3]))"
   ]
  },
  {
   "cell_type": "markdown",
   "metadata": {},
   "source": [
    "- 特征抽取\n",
    "  - 分词\n",
    "  - 计算tf-idf (term frequency–inverse document frequency)"
   ]
  },
  {
   "cell_type": "code",
   "execution_count": 30,
   "metadata": {
    "collapsed": false
   },
   "outputs": [
    {
     "name": "stdout",
     "output_type": "stream",
     "text": [
      "(2257, 35788)\n"
     ]
    }
   ],
   "source": [
    "from sklearn.feature_extraction.text import CountVectorizer\n",
    "count_vect = CountVectorizer()\n",
    "X_train_counts = count_vect.fit_transform(twenty_train.data)\n",
    "\n",
    "from sklearn.feature_extraction.text import TfidfTransformer\n",
    "tfidf_transformer = TfidfTransformer()\n",
    "X_train_tfidf = tfidf_transformer.fit_transform(X_train_counts)\n",
    "print X_train_tfidf.shape"
   ]
  },
  {
   "cell_type": "markdown",
   "metadata": {},
   "source": [
    "- 训练一个模型\n",
    "\n",
    "> 使用随机梯度下降算法"
   ]
  },
  {
   "cell_type": "code",
   "execution_count": 32,
   "metadata": {
    "collapsed": false
   },
   "outputs": [],
   "source": [
    "from sklearn.naive_bayes import MultinomialNB\n",
    "text_clf= MultinomialNB().fit(X_train_tfidf, twenty_train.target)"
   ]
  },
  {
   "cell_type": "markdown",
   "metadata": {},
   "source": [
    "- 使用训练的模型预测"
   ]
  },
  {
   "cell_type": "code",
   "execution_count": 34,
   "metadata": {
    "collapsed": false
   },
   "outputs": [
    {
     "name": "stdout",
     "output_type": "stream",
     "text": [
      "'God is love' => soc.religion.christian\n",
      "'OpenGL on the GPU is fast' => comp.graphics\n"
     ]
    }
   ],
   "source": [
    "docs_new = ['God is love', 'OpenGL on the GPU is fast']\n",
    "X_new_counts = count_vect.transform(docs_new)\n",
    "X_new_tfidf = tfidf_transformer.transform(X_new_counts)\n",
    "predicted = text_clf.predict(X_new_tfidf)\n",
    "for doc, category in zip(docs_new, predicted):\n",
    "    print('%r => %s' % (doc, twenty_train.target_names[category]))"
   ]
  },
  {
   "cell_type": "markdown",
   "metadata": {},
   "source": [
    "## A Real Project  \n",
    "- 印尼文分析系统\n",
    "  - 分类：时政，科技，体育，经济等\n",
    "  - 相似性分析：寻找主题相近的博客，推荐相似的新闻\n",
    "\n",
    "> 微软云 http://baca-classifier.azurewebsites.net/"
   ]
  },
  {
   "cell_type": "code",
   "execution_count": 35,
   "metadata": {
    "collapsed": true
   },
   "outputs": [],
   "source": [
    "data={'rawData':\"\"\"Listrik Indonesia, dari Pabrik Gula hingga Proyek 35.000 MW Tanggal 27 Oktober ditetapkan sebagai HLN, sebagai pengingat bahwa pada 27 Oktober 1945, didirikanlahJawatan Listrik dan Gas. Peringatan HLN tahun ini mengambil tema \"Bersama Menerangi Nusantara\". \n",
    "Tetapi, tahukah Anda, bagaimana sejarah perjalanan kelistrikan di tanah air dimulai? \n",
    "Sejarah kelistrikan Indonesia sebenarnya telah dimulai pada akhir abad ke 19, pada saat beberapa perusahaan Belanda, antara lain pabrik gula dan pabrik teh mendirikan pembangkit tenaga listrik untuk keperluan sendiri. \n",
    "Kelistrikan untuk umum mulai ada pada saat perusahaan swasta Belanda yaitu N V. Nign, yang semula bergerak di bidang gas memperluas usahanya di bidang penyediaan listrik untuk umum. \n",
    "Pada tahun 1927 pemerintah Belanda membentuks'Lands Waterkracht Bedriven (LWB), yaitu perusahaan listrik negara yang mengelola PLTA Plengan, PLTA Lamajan, PLTA Bengkok Dago, PLTA Ubrug dan Kracak di Jawa Barat, PLTA Giringan di Madiun, PLTA Tes di Bengkulu, PLTA Tonsea lama di Sulawesi Utara dan PLTU di Jakarta. \n",
    "Selain itu di beberapa Kotapraja dibentuk perusahaan-perusahaan listrik Kotapraja. Setelah Belanda menyerah kepada Jepang dalam perang dunia 2, maka Indonesia dikuasai Jepang. \n",
    "Perusahaan listrik dan gas juga diambil alih oleh Jepang, dan semua personil dalam perusahaan listrik tersebut diambil alih oleh orang-orang Jepang. \n",
    "Dengan jatuhnya Jepang ke tangan Sekutu, dan diproklamasikannya kemerdekaan Indonesia pada tanggal 17 Agustus 1945, kesempatan yang baik ini dimanfaatkan oleh pemuda dan buruh listrik dan gas untuk mengambil alih perusahaan-perusahaan listrik dan gas yang dikuasai Jepang. \n",
    "Setelah berhasil merebut perusahaan listrik dan gas dari tangan Jepang, pada bulan September 1945 suatu delegasi dari buruh/pegawai listrik dan gas menghadap pimpinan KNI Pusat yang pada waktu itu diketuai oleh M. Kasman Singodimedjo untuk melaporkan hasil perjuangan mereka. \n",
    "Selanjutnya, delegasi bersama-sama dengan pimpinan KNI Pusat menghadap Presiden Soekarno, untuk menyerahkan perusahaan-perusahaan listrik dan gas kepada pemerintah Republik Indonesia. \n",
    "Penyerahan tersebut diterima oleh Presiden Soekarno, dan kemudian dengan Penetapan Pemerintah No. 1 tahun 1945 tanggal 27 Oktober 1945 dibentuklah Jawatan Listrik dan Gas di bawah Departemen Pekerjaan Umum dan Tenaga. \n",
    "Proyek 35.000 MW\n",
    "Setelah melewati rentang waktu 70 tahun, menjelang akhir tahun 2015, rasio elektrifikasi Indonesia mencapai 87 persen. Angka ini meningkat pesat dalam lima tahun terakhir. \n",
    "Dibandingkan tahun 2010 yang baru mencapai 67, rasio elektrifikasi nasional telah naik 20 persen. \n",
    "Dalam 5 tahun ke depan, kebutuhan listrik akan tumbuh sebesar rata-rata 8,7 persen per tahun, dengan target rasio elektrifikasi sebesar 95 persen pada akhir tahun 2019. \n",
    "Untuk mempercepat dan mendorong keberhasilan pembangunan ketenagalistrikan, pada awal Mei tahun 2015, Presiden Joko Widodo meluncurkan program 35.000 MW di Yogyakarta. \n",
    "Menurut Presiden, proyek ini bukanlah proyek ambisius, akan tetapi merupakan utang kepada masyarakat yang mengalami defisit listrik. \n",
    "Presiden juga menyampaikan bahwa penambahan kapasitas listrik sebesar 35.000 MW memiliki multiplier efek yang besar bagi pertumbuhan ekonomi. \n",
    "Antara lain penyerapan tenaga kerja yang mencapai 650.000 tenaga kerja langsung dan 3 juta orang tenaga kerja tak langsung.\"\"\"}\n"
   ]
  },
  {
   "cell_type": "code",
   "execution_count": 37,
   "metadata": {
    "collapsed": false
   },
   "outputs": [
    {
     "name": "stdout",
     "output_type": "stream",
     "text": [
      "Economy\n"
     ]
    }
   ],
   "source": [
    "import requests\n",
    "result=requests.post('http://127.0.0.1:8000/class_predict/',json=data)\n",
    "print result.json()[\"SGD\"]"
   ]
  },
  {
   "cell_type": "markdown",
   "metadata": {},
   "source": [
    "# Contact me"
   ]
  },
  {
   "cell_type": "markdown",
   "metadata": {},
   "source": [
    "- ### Email: hupengcheng1993@126.com\n",
    "- ### QQ:756792649\n",
    "- ### Github : [Frank1993](https://github.com/Frank1993)\n",
    "- ### BitBucket: [FrankU](https://bitbucket.org/FrankU/)"
   ]
  },
  {
   "cell_type": "markdown",
   "metadata": {},
   "source": [
    "# Download This Notebook\n",
    "\n",
    "> https://github.com/Frank1993/PresentationOnML.git"
   ]
  }
 ],
 "metadata": {
  "kernelspec": {
   "display_name": "Python 2",
   "language": "python",
   "name": "python2"
  },
  "language_info": {
   "codemirror_mode": {
    "name": "ipython",
    "version": 2
   },
   "file_extension": ".py",
   "mimetype": "text/x-python",
   "name": "python",
   "nbconvert_exporter": "python",
   "pygments_lexer": "ipython2",
   "version": "2.7.10"
  }
 },
 "nbformat": 4,
 "nbformat_minor": 0
}
